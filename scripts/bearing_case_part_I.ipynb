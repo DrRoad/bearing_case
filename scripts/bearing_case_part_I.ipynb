{
 "cells": [
  {
   "cell_type": "markdown",
   "metadata": {},
   "source": [
    "# Investigating predictive maintenance using the Bearing case\n",
    "\n",
    "This is a case study done by Victoria Catterson on [cowlet.org](http://cowlet.org/2013/09/15/understanding-data-science-feature-extraction-with-r.html) using the programming language R. It caught my attention since it involves a form of machine learning that can be used for predictive maintenance which I have been interested in lately. She already provides the code in R so to force myself to learn more from it I decided to recreate the case study using Python. This introduction is largely given by her on the link provided above with some minor changes.\n",
    "\n",
    "The data used is from the [Prognostic Data Repository](https://ti.arc.nasa.gov/tech/dash/groups/pcoe/prognostic-data-repository/) hosted by NASA, and specifically [the bearing dataset from University of Cincinnati](http://ti.arc.nasa.gov/c/3/). The data was gathered from an experiment studying four bearings installed on a loaded rotating shaft, with a constant speed of 2,000rpm. With the following test setup ([Qiu et al](http://www.sciencedirect.com/science/article/pii/S0022460X0500221X)):\n",
    "<br />\n",
    "\n",
    "![](https://databoers.com/wp-content/uploads/2018/02/bearings_qiu-et-al.jpg)\n",
    "\n",
    "In the course of this experiment, some of the bearings broke down. Victoria Catterson decided to look at the data in detail, to see if she could identify early indicators of failure.\n",
    "\n",
    "# What are bearings?\n",
    "A basic understanding of the data you are trying to analyse is always necesary to prevent you from making elementary mistakes. This case is no different. As is usually the case with data science a broad knowledge of all fields comes in handy. However let's continue with what bearings are, in the words of Victoria:\n",
    "\n",
    "\"<i>Bearings are key components of all types of rotating machinery, from simple desk fans to nuclear power station turbines. Anything with a motor or generator rotates a shaft, and the health of the bearings determines how smoothly and efficiently that shaft rotates. Poor lubrication of the bearing will generate extra friction, which reduces efficiency and can also damage the bearing or shaft. In the worst cases, the bearing can scuff or crack, and metal particles break free to hit and damage other parts of the machine</i>\"\n",
    "\n",
    "There are also different types of bearings which influence their service life, for example there are 'fluid and magnetic bearings' that have been in continuous service since 1900 and have no signs of wear. Those would be no fun to investigate however! The bearings in this case are 'Rolling element bearings', whose service life is largely determined by load, temperature, maintenance, lubrication and other factors. Fault detection is mainly done through the measurement of vibration, the natural frequencies of a rolling element bearing is around 3 kHz. To measure this vibration a range-accelorometer is placed on the equipment. For the [Qiu, et al](http://www.sciencedirect.com/science/article/pii/S0022460X0500221X). experiment there were two such accelerometers per bearings measuring the x and y axes.\n",
    "\n",
    "# Data Composition\n",
    "Now we are somewhat familiar with what a bearing is and how they measured them. It is important to do a cursory inspection of your data before loading it so you know what to expect and efficiently go through it. The downloaded [dataset](http://ti.arc.nasa.gov/c/3/) contains a PDF detailing the experiment and data format. Extracting all of the files gives you three directories containing files. The 1st_test directory contains 2,156 files. These files are named according to timestamp and contain an 8 x 20,480 matrix of tab-seperated vaules. These columns correspond to the 2 accelerometers and the rows are the 20kHz samples from 1 second of operation. Now at this point Victoria mentions a key point that I would have missed until it would have showed up in plotting:\n",
    "\n",
    "<i>\"If the sampling rate is 20kHz and each file contains 1 second of data, there should be 20,000 rows of data. Since there are 20,480, one of these pieces of information about the data is wrong. Is it the sampling rate or the time period?\"</i>\n",
    "\n",
    "If the sampling rate is different from 20kHz to say 20.48kHz that would be a significant error for high frequency data. However if the time period of the samping is 1.024s it would explain it being rounded down to 1 second. Checking data consistency is important, this prevents misunderstandings and invalid results in the future.\n",
    "\n",
    "# Importing the data\n",
    "Now that we took a proper look at what the data is that we have we want to load it. I choose to use the 'pandas' package in Python which allows me to create dataframes similar to the way you create a matrix in R. Another package which always comes in handy is 'matplotlib' for basic plotting functionality. Lets start with a single file and prepare it accordingly before loading the other 2,155 files.\n",
    "\n",
    "\n"
   ]
  },
  {
   "cell_type": "code",
   "execution_count": 19,
   "metadata": {},
   "outputs": [
    {
     "data": {
      "text/html": [
       "<div>\n",
       "<style>\n",
       "    .dataframe thead tr:only-child th {\n",
       "        text-align: right;\n",
       "    }\n",
       "\n",
       "    .dataframe thead th {\n",
       "        text-align: left;\n",
       "    }\n",
       "\n",
       "    .dataframe tbody tr th {\n",
       "        vertical-align: top;\n",
       "    }\n",
       "</style>\n",
       "<table border=\"1\" class=\"dataframe\">\n",
       "  <thead>\n",
       "    <tr style=\"text-align: right;\">\n",
       "      <th></th>\n",
       "      <th>0</th>\n",
       "      <th>1</th>\n",
       "      <th>2</th>\n",
       "      <th>3</th>\n",
       "      <th>4</th>\n",
       "      <th>5</th>\n",
       "      <th>6</th>\n",
       "      <th>7</th>\n",
       "    </tr>\n",
       "  </thead>\n",
       "  <tbody>\n",
       "    <tr>\n",
       "      <th>0</th>\n",
       "      <td>-0.022</td>\n",
       "      <td>-0.039</td>\n",
       "      <td>-0.183</td>\n",
       "      <td>-0.054</td>\n",
       "      <td>-0.105</td>\n",
       "      <td>-0.134</td>\n",
       "      <td>-0.129</td>\n",
       "      <td>-0.142</td>\n",
       "    </tr>\n",
       "    <tr>\n",
       "      <th>1</th>\n",
       "      <td>-0.105</td>\n",
       "      <td>-0.017</td>\n",
       "      <td>-0.164</td>\n",
       "      <td>-0.183</td>\n",
       "      <td>-0.049</td>\n",
       "      <td>0.029</td>\n",
       "      <td>-0.115</td>\n",
       "      <td>-0.122</td>\n",
       "    </tr>\n",
       "    <tr>\n",
       "      <th>2</th>\n",
       "      <td>-0.183</td>\n",
       "      <td>-0.098</td>\n",
       "      <td>-0.195</td>\n",
       "      <td>-0.125</td>\n",
       "      <td>-0.005</td>\n",
       "      <td>-0.007</td>\n",
       "      <td>-0.171</td>\n",
       "      <td>-0.071</td>\n",
       "    </tr>\n",
       "    <tr>\n",
       "      <th>3</th>\n",
       "      <td>-0.178</td>\n",
       "      <td>-0.161</td>\n",
       "      <td>-0.159</td>\n",
       "      <td>-0.178</td>\n",
       "      <td>-0.100</td>\n",
       "      <td>-0.115</td>\n",
       "      <td>-0.112</td>\n",
       "      <td>-0.078</td>\n",
       "    </tr>\n",
       "    <tr>\n",
       "      <th>4</th>\n",
       "      <td>-0.208</td>\n",
       "      <td>-0.129</td>\n",
       "      <td>-0.261</td>\n",
       "      <td>-0.098</td>\n",
       "      <td>-0.151</td>\n",
       "      <td>-0.205</td>\n",
       "      <td>-0.063</td>\n",
       "      <td>-0.066</td>\n",
       "    </tr>\n",
       "  </tbody>\n",
       "</table>\n",
       "</div>"
      ]
     },
     "output_type": "execute_result",
     "metadata": {}
    }
   ],
   "source": [
    "# Importing pandas and other packages\n",
    "%matplotlib inline\n",
    "import pandas as pd\n",
    "import matplotlib\n",
    "\n",
    "basedir = 'D:/Databoers/data/bearings/1st_test/'\n",
    "test_file = '2003.10.22.12.06.24'\n",
    "\n",
    "# The basedir contains tab seperated files\n",
    "data = pd.read_csv(basedir+test_file, sep='\\t', header=None)\n",
    "data.head()"
   ]
  },
  {
   "cell_type": "markdown",
   "metadata": {},
   "source": [
    "The data was loaded succesfully, now we can change the header information to me more informative."
   ]
  },
  {
   "cell_type": "code",
   "execution_count": 20,
   "metadata": {},
   "outputs": [
    {
     "data": {
      "text/html": [
       "<div>\n",
       "<style>\n",
       "    .dataframe thead tr:only-child th {\n",
       "        text-align: right;\n",
       "    }\n",
       "\n",
       "    .dataframe thead th {\n",
       "        text-align: left;\n",
       "    }\n",
       "\n",
       "    .dataframe tbody tr th {\n",
       "        vertical-align: top;\n",
       "    }\n",
       "</style>\n",
       "<table border=\"1\" class=\"dataframe\">\n",
       "  <thead>\n",
       "    <tr style=\"text-align: right;\">\n",
       "      <th></th>\n",
       "      <th>b1_x</th>\n",
       "      <th>b1_y</th>\n",
       "      <th>b2_x</th>\n",
       "      <th>b2_y</th>\n",
       "      <th>b3_x</th>\n",
       "      <th>b3_y</th>\n",
       "      <th>b4_x</th>\n",
       "      <th>b4_y</th>\n",
       "    </tr>\n",
       "  </thead>\n",
       "  <tbody>\n",
       "    <tr>\n",
       "      <th>0</th>\n",
       "      <td>-0.022</td>\n",
       "      <td>-0.039</td>\n",
       "      <td>-0.183</td>\n",
       "      <td>-0.054</td>\n",
       "      <td>-0.105</td>\n",
       "      <td>-0.134</td>\n",
       "      <td>-0.129</td>\n",
       "      <td>-0.142</td>\n",
       "    </tr>\n",
       "    <tr>\n",
       "      <th>1</th>\n",
       "      <td>-0.105</td>\n",
       "      <td>-0.017</td>\n",
       "      <td>-0.164</td>\n",
       "      <td>-0.183</td>\n",
       "      <td>-0.049</td>\n",
       "      <td>0.029</td>\n",
       "      <td>-0.115</td>\n",
       "      <td>-0.122</td>\n",
       "    </tr>\n",
       "    <tr>\n",
       "      <th>2</th>\n",
       "      <td>-0.183</td>\n",
       "      <td>-0.098</td>\n",
       "      <td>-0.195</td>\n",
       "      <td>-0.125</td>\n",
       "      <td>-0.005</td>\n",
       "      <td>-0.007</td>\n",
       "      <td>-0.171</td>\n",
       "      <td>-0.071</td>\n",
       "    </tr>\n",
       "    <tr>\n",
       "      <th>3</th>\n",
       "      <td>-0.178</td>\n",
       "      <td>-0.161</td>\n",
       "      <td>-0.159</td>\n",
       "      <td>-0.178</td>\n",
       "      <td>-0.100</td>\n",
       "      <td>-0.115</td>\n",
       "      <td>-0.112</td>\n",
       "      <td>-0.078</td>\n",
       "    </tr>\n",
       "    <tr>\n",
       "      <th>4</th>\n",
       "      <td>-0.208</td>\n",
       "      <td>-0.129</td>\n",
       "      <td>-0.261</td>\n",
       "      <td>-0.098</td>\n",
       "      <td>-0.151</td>\n",
       "      <td>-0.205</td>\n",
       "      <td>-0.063</td>\n",
       "      <td>-0.066</td>\n",
       "    </tr>\n",
       "  </tbody>\n",
       "</table>\n",
       "</div>"
      ]
     },
     "output_type": "execute_result",
     "metadata": {}
    }
   ],
   "source": [
    "data.columns = ['b1_x', 'b1_y', 'b2_x', 'b2_y', 'b3_x', 'b3_y', 'b4_x', 'b4_y']\n",
    "data.head()"
   ]
  },
  {
   "cell_type": "markdown",
   "metadata": {},
   "source": [
    "# Initial analysis\n",
    "Now that we have a first look at the data we can start analysing to see what we can find out. Are there any obvious outliers? What aspects need cleaning? Do we store it in seperate files or one big dataframe? \n",
    "\n",
    "To start we are just going to get a summary of the data and make a plot out of this. Then we see if we can make any meaningful observations."
   ]
  },
  {
   "cell_type": "code",
   "execution_count": 27,
   "metadata": {},
   "outputs": [
    {
     "data": {
      "text/plain": [
       "count    20480.000000\n",
       "mean        -0.094593\n",
       "std          0.081124\n",
       "min         -0.720000\n",
       "25%         -0.146000\n",
       "50%         -0.095000\n",
       "75%         -0.042000\n",
       "max          0.388000\n",
       "Name: b1_x, dtype: float64"
      ]
     },
     "execution_count": 27,
     "output_type": "execute_result",
     "metadata": {}
    }
   ],
   "source": [
    "data['b1_x'].describe()"
   ]
  },
  {
   "cell_type": "code",
   "execution_count": 30,
   "metadata": {},
   "outputs": [
    {
     "data": {
      "text/plain": [
       "<matplotlib.axes._subplots.AxesSubplot at 0x1bad1c9c400>"
      ]
     },
     "execution_count": 30,
     "output_type": "execute_result",
     "metadata": {}
    },
    {
     "data": {
      "image/png": "[encoded data removed]"
     },
     "output_type": "display_data",
     "metadata": {}
    }
   ],
   "source": [
    "data['b1_x'].plot.line()"
   ]
  },
  {
   "cell_type": "markdown",
   "metadata": {},
   "source": [
    "# Observations\n",
    "So looking at the above plot and summary of the x axis for the 1st bearing we can make some  observations. A visual inspection of the plot shows that the largest amount of variation is centered below 0, the mean being -.09 supports that. The vibrations are mainly centered between 0 and 0.2, there are some noticable outliers. The max and min values are 0.388 and -0.720 which are not orders of magnitude different from the rest of the measurements, which suggests they are true measurements. The other columns show similar patterns.\n",
    "\n",
    "However each of these plots only shows a snapshot of a second for each of the bearings. To do a full analysis we need to take into account all of the measurements. And we are not going to go through thousands of plots by hand. So instead of that we need to find another way to analyze the data."
   ]
  },
  {
   "cell_type": "code",
   "execution_count": null,
   "metadata": {},
   "outputs": [],
   "source": [
    ""
   ]
  }
 ],
 "metadata": {
  "kernelspec": {
   "display_name": "Python [conda root]",
   "language": "python",
   "name": "conda-root-py"
  },
  "language_info": {
   "codemirror_mode": {
    "name": "ipython",
    "version": 3.0
   },
   "file_extension": ".py",
   "mimetype": "text/x-python",
   "name": "python",
   "nbconvert_exporter": "python",
   "pygments_lexer": "ipython3",
   "version": "3.6.3"
  }
 },
 "nbformat": 4,
 "nbformat_minor": 2
}