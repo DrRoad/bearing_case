{
 "cells": [
  {
   "cell_type": "markdown",
   "metadata": {},
   "source": [
    "# Introduction\n",
    "\n",
    "This is a recreation of a case study done by Victoria Catterson on [cowlet.org](http://cowlet.org/2013/09/15/understanding-data-science-feature-extraction-with-r.html) using the programming language R. It caught my attention since it involves a form of machine learning that can be used for predictive maintenance which I have been interested in lately. She already provides the code in R so to force myself to learn more from it I decided to recreate the case study using Python. This introduction is largely given by her on the link provided above with some minor changes.\n",
    "\n",
    "The data used is from the [Prognostic Data Repository](https://ti.arc.nasa.gov/tech/dash/groups/pcoe/prognostic-data-repository/) hosted by NASA, and specifically [the bearing dataset from University of Cincinnati](http://ti.arc.nasa.gov/c/3/). The data was gathered from an experiment studying four bearings installed on a loaded rotating shaft, with a constant speed of 2,000rpm. With the following test setup ([Qiu et al](http://www.sciencedirect.com/science/article/pii/S0022460X0500221X)):\n",
    "<br />\n",
    "\n",
    "![](https://databoers.com/wp-content/uploads/2018/02/bearings_qiu-et-al.jpg)\n",
    "\n",
    "In the course of this experiment, some of the bearings broke down. Victoria Catterson decided to look at the data in detail, to see if she could identify early indicators of failure.\n",
    "\n",
    "# What are bearings?\n",
    "A basic understanding of the data you are trying to analyse is always necesary to prevent you from making elementary mistakes. This case is no different. As is usually the case with data science a broad knowledge of all fields comes in handy. However let's continue with what bearings are, in the words of Victoria:\n",
    "\n",
    "\"<i>Bearings are key components of all types of rotating machinery, from simple desk fans to nuclear power station turbines. Anything with a motor or generator rotates a shaft, and the health of the bearings determines how smoothly and efficiently that shaft rotates. Poor lubrication of the bearing will generate extra friction, which reduces efficiency and can also damage the bearing or shaft. In the worst cases, the bearing can scuff or crack, and metal particles break free to hit and damage other parts of the machine</i>\"\n",
    "\n",
    "There are also different types of bearings which influence their service life, for example there are 'fluid and magnetic bearings' that have been in continuous service since 1900 and have no signs of wear. Those would be no fun to investigate however! The bearings in this case are 'Rolling element bearings', whose service life is largely determined by load, temperature, maintenance, lubrication and other factors. Fault detection is mainly done through the measurement of vibration, the natural frequencies of a rolling element bearing is around 3 kHz. To measure this vibration a range-accelorometer is placed on the equipment. For the [Qiu, et al](http://www.sciencedirect.com/science/article/pii/S0022460X0500221X). experiment there were two such accelerometers per bearings measuring the x and y axes.\n",
    "\n",
    "# Data Composition\n",
    "Now we are somewhat familiar with what a bearing is and how they measured them. It is important to do a cursory inspection of your data before loading it so you know what to expect and efficiently go through it. The downloaded [dataset](http://ti.arc.nasa.gov/c/3/) contains a PDF detailing the experiment and data format. Extracting all of the files gives you three directories containing files. The 1st_test directory contains 2,156 files. These files are named according to timestamp and contain an 8 x 20,480 matrix of tab-seperated vaules. These columns correspond to the 2 accelerometers and the rows are the 20kHz samples from 1 second of operation. Now at this point Victoria mentions a key point that I would have missed until it would have showed up in plotting:\n",
    "\n",
    "<i>\"If the sampling rate is 20kHz and each file contains 1 second of data, there should be 20,000 rows of data. Since there are 20,480, one of these pieces of information about the data is wrong. Is it the sampling rate or the time period?\"</i>\n",
    "\n",
    "If the sampling rate is different from 20kHz to say 20.48kHz that would be a significant error for high frequency data. However if the time period of the samping is 1.024s it would explain it being rounded down to 1 second. Checking data consistency is important, this prevents misunderstandings and invalid results in the future.\n",
    "\n",
    "# Importing the data\n",
    "Now that we took a proper look at what the data is that we have we want to load it. I choose to use the 'pandas' package in Python which allows me to create dataframes similar to the way you create a matrix in R. Another package which always comes in handy is 'matplotlib' for basic plotting functionality. Lets start with a single file and prepare it accordingly before loading the other 2,155 files.\n",
    "\n",
    "\n"
   ]
  },
  {
   "cell_type": "code",
   "execution_count": 45,
   "metadata": {},
   "outputs": [
    {
     "data": {
      "text/html": [
       "<div>\n",
       "<style>\n",
       "    .dataframe thead tr:only-child th {\n",
       "        text-align: right;\n",
       "    }\n",
       "\n",
       "    .dataframe thead th {\n",
       "        text-align: left;\n",
       "    }\n",
       "\n",
       "    .dataframe tbody tr th {\n",
       "        vertical-align: top;\n",
       "    }\n",
       "</style>\n",
       "<table border=\"1\" class=\"dataframe\">\n",
       "  <thead>\n",
       "    <tr style=\"text-align: right;\">\n",
       "      <th></th>\n",
       "      <th>0</th>\n",
       "      <th>1</th>\n",
       "      <th>2</th>\n",
       "      <th>3</th>\n",
       "      <th>4</th>\n",
       "      <th>5</th>\n",
       "      <th>6</th>\n",
       "      <th>7</th>\n",
       "    </tr>\n",
       "  </thead>\n",
       "  <tbody>\n",
       "    <tr>\n",
       "      <th>0</th>\n",
       "      <td>-0.022</td>\n",
       "      <td>-0.039</td>\n",
       "      <td>-0.183</td>\n",
       "      <td>-0.054</td>\n",
       "      <td>-0.105</td>\n",
       "      <td>-0.134</td>\n",
       "      <td>-0.129</td>\n",
       "      <td>-0.142</td>\n",
       "    </tr>\n",
       "    <tr>\n",
       "      <th>1</th>\n",
       "      <td>-0.105</td>\n",
       "      <td>-0.017</td>\n",
       "      <td>-0.164</td>\n",
       "      <td>-0.183</td>\n",
       "      <td>-0.049</td>\n",
       "      <td>0.029</td>\n",
       "      <td>-0.115</td>\n",
       "      <td>-0.122</td>\n",
       "    </tr>\n",
       "    <tr>\n",
       "      <th>2</th>\n",
       "      <td>-0.183</td>\n",
       "      <td>-0.098</td>\n",
       "      <td>-0.195</td>\n",
       "      <td>-0.125</td>\n",
       "      <td>-0.005</td>\n",
       "      <td>-0.007</td>\n",
       "      <td>-0.171</td>\n",
       "      <td>-0.071</td>\n",
       "    </tr>\n",
       "    <tr>\n",
       "      <th>3</th>\n",
       "      <td>-0.178</td>\n",
       "      <td>-0.161</td>\n",
       "      <td>-0.159</td>\n",
       "      <td>-0.178</td>\n",
       "      <td>-0.100</td>\n",
       "      <td>-0.115</td>\n",
       "      <td>-0.112</td>\n",
       "      <td>-0.078</td>\n",
       "    </tr>\n",
       "    <tr>\n",
       "      <th>4</th>\n",
       "      <td>-0.208</td>\n",
       "      <td>-0.129</td>\n",
       "      <td>-0.261</td>\n",
       "      <td>-0.098</td>\n",
       "      <td>-0.151</td>\n",
       "      <td>-0.205</td>\n",
       "      <td>-0.063</td>\n",
       "      <td>-0.066</td>\n",
       "    </tr>\n",
       "  </tbody>\n",
       "</table>\n",
       "</div>"
      ],
      "text/plain": [
       "       0      1      2      3      4      5      6      7\n",
       "0 -0.022 -0.039 -0.183 -0.054 -0.105 -0.134 -0.129 -0.142\n",
       "1 -0.105 -0.017 -0.164 -0.183 -0.049  0.029 -0.115 -0.122\n",
       "2 -0.183 -0.098 -0.195 -0.125 -0.005 -0.007 -0.171 -0.071\n",
       "3 -0.178 -0.161 -0.159 -0.178 -0.100 -0.115 -0.112 -0.078\n",
       "4 -0.208 -0.129 -0.261 -0.098 -0.151 -0.205 -0.063 -0.066"
      ]
     },
     "execution_count": 45,
     "metadata": {},
     "output_type": "execute_result"
    }
   ],
   "source": [
    "# Importing pandas and other packages\n",
    "import pandas as pd\n",
    "import matplotlib\n",
    "import matplotlib.pyplot as plt\n",
    "import plotly.plotly as py\n",
    "import plotly.graph_objs as go\n",
    "%matplotlib inline\n",
    "\n",
    "basedir = 'D:/Databoers/data/bearings/1st_test/'\n",
    "test_file = '2003.10.22.12.06.24'\n",
    "\n",
    "# The basedir contains tab seperated files\n",
    "data = pd.read_csv(basedir+test_file, sep='\\t', header=None)\n",
    "data.head()"
   ]
  },
  {
   "cell_type": "markdown",
   "metadata": {},
   "source": [
    "The data was loaded succesfully, now we can change the header information to me more informative."
   ]
  },
  {
   "cell_type": "code",
   "execution_count": 2,
   "metadata": {},
   "outputs": [
    {
     "data": {
      "text/html": [
       "<div>\n",
       "<style>\n",
       "    .dataframe thead tr:only-child th {\n",
       "        text-align: right;\n",
       "    }\n",
       "\n",
       "    .dataframe thead th {\n",
       "        text-align: left;\n",
       "    }\n",
       "\n",
       "    .dataframe tbody tr th {\n",
       "        vertical-align: top;\n",
       "    }\n",
       "</style>\n",
       "<table border=\"1\" class=\"dataframe\">\n",
       "  <thead>\n",
       "    <tr style=\"text-align: right;\">\n",
       "      <th></th>\n",
       "      <th>b1_x</th>\n",
       "      <th>b1_y</th>\n",
       "      <th>b2_x</th>\n",
       "      <th>b2_y</th>\n",
       "      <th>b3_x</th>\n",
       "      <th>b3_y</th>\n",
       "      <th>b4_x</th>\n",
       "      <th>b4_y</th>\n",
       "    </tr>\n",
       "  </thead>\n",
       "  <tbody>\n",
       "    <tr>\n",
       "      <th>0</th>\n",
       "      <td>-0.022</td>\n",
       "      <td>-0.039</td>\n",
       "      <td>-0.183</td>\n",
       "      <td>-0.054</td>\n",
       "      <td>-0.105</td>\n",
       "      <td>-0.134</td>\n",
       "      <td>-0.129</td>\n",
       "      <td>-0.142</td>\n",
       "    </tr>\n",
       "    <tr>\n",
       "      <th>1</th>\n",
       "      <td>-0.105</td>\n",
       "      <td>-0.017</td>\n",
       "      <td>-0.164</td>\n",
       "      <td>-0.183</td>\n",
       "      <td>-0.049</td>\n",
       "      <td>0.029</td>\n",
       "      <td>-0.115</td>\n",
       "      <td>-0.122</td>\n",
       "    </tr>\n",
       "    <tr>\n",
       "      <th>2</th>\n",
       "      <td>-0.183</td>\n",
       "      <td>-0.098</td>\n",
       "      <td>-0.195</td>\n",
       "      <td>-0.125</td>\n",
       "      <td>-0.005</td>\n",
       "      <td>-0.007</td>\n",
       "      <td>-0.171</td>\n",
       "      <td>-0.071</td>\n",
       "    </tr>\n",
       "    <tr>\n",
       "      <th>3</th>\n",
       "      <td>-0.178</td>\n",
       "      <td>-0.161</td>\n",
       "      <td>-0.159</td>\n",
       "      <td>-0.178</td>\n",
       "      <td>-0.100</td>\n",
       "      <td>-0.115</td>\n",
       "      <td>-0.112</td>\n",
       "      <td>-0.078</td>\n",
       "    </tr>\n",
       "    <tr>\n",
       "      <th>4</th>\n",
       "      <td>-0.208</td>\n",
       "      <td>-0.129</td>\n",
       "      <td>-0.261</td>\n",
       "      <td>-0.098</td>\n",
       "      <td>-0.151</td>\n",
       "      <td>-0.205</td>\n",
       "      <td>-0.063</td>\n",
       "      <td>-0.066</td>\n",
       "    </tr>\n",
       "  </tbody>\n",
       "</table>\n",
       "</div>"
      ],
      "text/plain": [
       "    b1_x   b1_y   b2_x   b2_y   b3_x   b3_y   b4_x   b4_y\n",
       "0 -0.022 -0.039 -0.183 -0.054 -0.105 -0.134 -0.129 -0.142\n",
       "1 -0.105 -0.017 -0.164 -0.183 -0.049  0.029 -0.115 -0.122\n",
       "2 -0.183 -0.098 -0.195 -0.125 -0.005 -0.007 -0.171 -0.071\n",
       "3 -0.178 -0.161 -0.159 -0.178 -0.100 -0.115 -0.112 -0.078\n",
       "4 -0.208 -0.129 -0.261 -0.098 -0.151 -0.205 -0.063 -0.066"
      ]
     },
     "execution_count": 2,
     "metadata": {},
     "output_type": "execute_result"
    }
   ],
   "source": [
    "data.columns = ['b1_x', 'b1_y', 'b2_x', 'b2_y', 'b3_x', 'b3_y', 'b4_x', 'b4_y']\n",
    "data.head()"
   ]
  },
  {
   "cell_type": "markdown",
   "metadata": {},
   "source": [
    "# Initial analysis\n",
    "Now that we have a first look at the data we can start analysing to see what we can find out. Are there any obvious outliers? What aspects need cleaning? Do we store it in seperate files or one big dataframe? \n",
    "\n",
    "To start we are just going to get a summary of the data and make a plot out of this. Then we see if we can make any meaningful observations."
   ]
  },
  {
   "cell_type": "code",
   "execution_count": 3,
   "metadata": {},
   "outputs": [
    {
     "data": {
      "text/plain": [
       "count    20480.000000\n",
       "mean        -0.094593\n",
       "std          0.081124\n",
       "min         -0.720000\n",
       "25%         -0.146000\n",
       "50%         -0.095000\n",
       "75%         -0.042000\n",
       "max          0.388000\n",
       "Name: b1_x, dtype: float64"
      ]
     },
     "execution_count": 3,
     "metadata": {},
     "output_type": "execute_result"
    }
   ],
   "source": [
    "data['b1_x'].describe()"
   ]
  },
  {
   "cell_type": "code",
   "execution_count": 4,
   "metadata": {},
   "outputs": [
    {
     "data": {
      "text/plain": [
       "<matplotlib.axes._subplots.AxesSubplot at 0x1dc2d8c4c88>"
      ]
     },
     "execution_count": 4,
     "metadata": {},
     "output_type": "execute_result"
    },
    {
     "data": {
      "image/png": "[encoded data removed]",
      "text/plain": [
       "<matplotlib.figure.Figure at 0x1dc2d8c4b00>"
      ]
     },
     "metadata": {},
     "output_type": "display_data"
    }
   ],
   "source": [
    "data['b1_x'].plot.line()"
   ]
  },
  {
   "cell_type": "markdown",
   "metadata": {},
   "source": [
    "# Observations\n",
    "So looking at the above plot and summary of the x axis for the 1st bearing we can make some  observations. A visual inspection of the plot shows that the largest amount of variation is centered below 0, the mean being -.09 supports that. The vibrations are mainly centered between 0 and 0.2, there are some noticable outliers. The max and min values are 0.388 and -0.720 which are not orders of magnitude different from the rest of the measurements, which suggests they are true measurements. The other columns show similar patterns.\n",
    "\n",
    "However each of these plots only shows a snapshot of a second for each of the bearings. To do a full analysis we need to take into account all of the measurements. And we are not going to go through thousands of plots by hand. So instead of that we need to find another way to analyze the data."
   ]
  },
  {
   "cell_type": "markdown",
   "metadata": {
    "collapsed": true
   },
   "source": [
    "# Feature Extraction\n",
    "So we currently have 2,156 files with 20,480 datapoints. So roughly 44 million datapoints, it is feasible to do computation with this using appropriate algorithms and cpu time. However we are going to extract some features to reduce the dimensionality of the data. A risk here is that by removing features we lose valuable information about the actual data.\n",
    "\n",
    "### Fast Fourier Transform (FFT)\n",
    "A popular technique for studying mechanical components such as bearings is [Vibration Analysis]([https://en.wikipedia.org/wiki/Vibration) (VA). It can be effectively used to detect faults in rotating equipment to find rolling element bearing faults. VA uses units of Displacement, Velocity and Acceleration displayed as [Time Waveforms](https://en.wikipedia.org/wiki/Waveform). To use these we can transform them into a spectrum using a [Fast Fourier Transform](https://en.wikipedia.org/wiki/Fast_Fourier_transform) of these Time Waveforms. The Python package '[numpy](http://www.numpy.org/)' can be used for scientific computing, including the numpy.fft() function to perform a Fast Fourier Transform. Additionally we perform some steps to make the format more managable to plot. To plot the following I decided to use the 'plotly' package which is very nice to generate interactive plots.\n"
   ]
  },
  {
   "cell_type": "code",
   "execution_count": 9,
   "metadata": {},
   "outputs": [
    {
     "data": {
      "text/html": [
       "<iframe id=\"igraph\" scrolling=\"no\" style=\"border:none;\" seamless=\"seamless\" src=\"https://plot.ly/~Databoers/6.embed\" height=\"525px\" width=\"100%\"></iframe>"
      ],
      "text/plain": [
       "<plotly.tools.PlotlyDisplay object>"
      ]
     },
     "execution_count": 9,
     "metadata": {},
     "output_type": "execute_result"
    }
   ],
   "source": [
    "# First we take the absolutes of the fast fourier transform\n",
    "amplitude = np.absolute(np.fft.fft(data['b1_x']))\n",
    "\n",
    "# Now we ignore the 2nd half of the transform as being complex conjugates of the 1st half\n",
    "amplitude = amplitude[0:(int(len(amplitude)/2))]\n",
    "\n",
    "#Calculate frequencies\n",
    "frequency = numpy.linspace(0,10000, len(amplitude))\n",
    "\n",
    "trace = go.Scatter(x = frequency, y = amplitude)\n",
    "data = [trace]\n",
    "layout = go.Layout(title=\"Frequency vs Amplitude after FFT\",\n",
    "                  xaxis=dict(title='Frequency'),\n",
    "                  yaxis=dict(title='Amplitude'))\n",
    "fig = go.Figure(data=data, layout=layout)\n",
    "\n",
    "py.iplot(fig)"
   ]
  },
  {
   "cell_type": "markdown",
   "metadata": {},
   "source": [
    "The most noticable spikes seem to be on the lower frequencies. There is some activity around 4kHz and 8kHz as well. But lets zoom in on the lower frequencies first.\n"
   ]
  },
  {
   "cell_type": "code",
   "execution_count": 14,
   "metadata": {},
   "outputs": [
    {
     "data": {
      "text/html": [
       "<iframe id=\"igraph\" scrolling=\"no\" style=\"border:none;\" seamless=\"seamless\" src=\"https://plot.ly/~Databoers/12.embed\" height=\"525px\" width=\"100%\"></iframe>"
      ],
      "text/plain": [
       "<plotly.tools.PlotlyDisplay object>"
      ]
     },
     "execution_count": 14,
     "metadata": {},
     "output_type": "execute_result"
    }
   ],
   "source": [
    "layout = go.Layout(title=\"Frequency vs Amplitude after FFT\",\n",
    "                  xaxis=dict(title='Frequency', range=[0,1100]),\n",
    "                  yaxis=dict(title='Amplitude', range=[0,500]))\n",
    "fig = go.Figure(data=data, layout=layout)\n",
    "\n",
    "py.iplot(fig)"
   ]
  },
  {
   "cell_type": "markdown",
   "metadata": {},
   "source": [
    "Other than the dc term (at 0Hz), the tallest spikes are just below 1kHz. There is also a large spike just below 500Hz, and two around 50Hz. The interactive plot enables us to check what frequencies the outliers are on. However we might want to put all of this in a table for easier viewing:\n"
   ]
  },
  {
   "cell_type": "code",
   "execution_count": 44,
   "metadata": {},
   "outputs": [
    {
     "data": {
      "text/html": [
       "<div>\n",
       "<style>\n",
       "    .dataframe thead tr:only-child th {\n",
       "        text-align: right;\n",
       "    }\n",
       "\n",
       "    .dataframe thead th {\n",
       "        text-align: left;\n",
       "    }\n",
       "\n",
       "    .dataframe tbody tr th {\n",
       "        vertical-align: top;\n",
       "    }\n",
       "</style>\n",
       "<table border=\"1\" class=\"dataframe\">\n",
       "  <thead>\n",
       "    <tr style=\"text-align: right;\">\n",
       "      <th></th>\n",
       "      <th>1</th>\n",
       "      <th>2</th>\n",
       "      <th>3</th>\n",
       "      <th>4</th>\n",
       "      <th>5</th>\n",
       "      <th>6</th>\n",
       "      <th>7</th>\n",
       "      <th>8</th>\n",
       "      <th>9</th>\n",
       "      <th>10</th>\n",
       "    </tr>\n",
       "  </thead>\n",
       "  <tbody>\n",
       "    <tr>\n",
       "      <th>Amplitude</th>\n",
       "      <td>1937.262</td>\n",
       "      <td>568.025449</td>\n",
       "      <td>181.099925</td>\n",
       "      <td>125.348528</td>\n",
       "      <td>102.899711</td>\n",
       "      <td>95.688706</td>\n",
       "      <td>78.623396</td>\n",
       "      <td>65.746995</td>\n",
       "      <td>63.723709</td>\n",
       "      <td>63.313016</td>\n",
       "    </tr>\n",
       "    <tr>\n",
       "      <th>Frequency</th>\n",
       "      <td>0.000</td>\n",
       "      <td>986.424456</td>\n",
       "      <td>993.261061</td>\n",
       "      <td>493.212228</td>\n",
       "      <td>979.587850</td>\n",
       "      <td>994.237719</td>\n",
       "      <td>969.821272</td>\n",
       "      <td>971.774587</td>\n",
       "      <td>57.622815</td>\n",
       "      <td>978.611192</td>\n",
       "    </tr>\n",
       "  </tbody>\n",
       "</table>\n",
       "</div>"
      ],
      "text/plain": [
       "                 1           2           3           4           5   \\\n",
       "Amplitude  1937.262  568.025449  181.099925  125.348528  102.899711   \n",
       "Frequency     0.000  986.424456  993.261061  493.212228  979.587850   \n",
       "\n",
       "                   6           7           8          9           10  \n",
       "Amplitude   95.688706   78.623396   65.746995  63.723709   63.313016  \n",
       "Frequency  994.237719  969.821272  971.774587  57.622815  978.611192  "
      ]
     },
     "execution_count": 44,
     "metadata": {},
     "output_type": "execute_result"
    }
   ],
   "source": [
    "top_outliers = sorted(zip(amplitude, frequency), reverse=True)[:10]\n",
    "df = pd.DataFrame.from_records(top_outliers)\n",
    "df.columns = ['Amplitude', 'Frequency']\n",
    "\n",
    "df = df.transpose()\n",
    "df.columns = [i+1 for i in range(10)]\n",
    "df"
   ]
  },
  {
   "cell_type": "markdown",
   "metadata": {},
   "source": [
    "The previously mentioned outliers appear to be on 49.8Hz, 57.6Hz, and 493Hz. Interestingly, the second and fourth largest components have a harmonic relationship (493Hz * 2 = 986Hz), which strongly suggests they are linked. It would be worth looking the frequencies of the largest five components as displayed here (exluding the 0Hz dc term measurement). Since each bearing has an x and y axis, this means there will be 10 features total. However this concludes our introduction, we will continue this investigation in the next post.\n",
    "\n",
    "\n",
    "# Next Steps\n",
    "\n",
    "- Feature Selection\n",
    "- Processing all files\n",
    "- Standardizing functions\n",
    "\n",
    "These steps will require us to convert all the files into 4 files, one for each bearing. This means we will have 4 files each having 2,156 rows (one for each file) with the timestamp being the first column and the key features extracted following this calculated from the measurements at that time.\n",
    "\n",
    "Until next time!"
   ]
  }
 ],
 "metadata": {
  "kernelspec": {
   "display_name": "Python [conda root]",
   "language": "python",
   "name": "conda-root-py"
  },
  "language_info": {
   "codemirror_mode": {
    "name": "ipython",
    "version": 3
   },
   "file_extension": ".py",
   "mimetype": "text/x-python",
   "name": "python",
   "nbconvert_exporter": "python",
   "pygments_lexer": "ipython3",
   "version": "3.6.3"
  }
 },
 "nbformat": 4,
 "nbformat_minor": 2
}
